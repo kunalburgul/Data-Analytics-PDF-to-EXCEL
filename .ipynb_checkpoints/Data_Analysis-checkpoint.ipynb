{
 "cells": [
  {
   "cell_type": "markdown",
   "metadata": {
    "colab_type": "text",
    "id": "view-in-github"
   },
   "source": [
    "<a href=\"https://colab.research.google.com/github/kunalburgul/Data_Analytics/blob/master/Data_Analysis.ipynb\" target=\"_parent\"><img src=\"https://colab.research.google.com/assets/colab-badge.svg\" alt=\"Open In Colab\"/></a>"
   ]
  },
  {
   "cell_type": "markdown",
   "metadata": {
    "id": "udYKOpU1Vjkg"
   },
   "source": [
    "# **Data Analytics**"
   ]
  },
  {
   "cell_type": "markdown",
   "metadata": {
    "id": "Kdggwi0zVsIW"
   },
   "source": [
    "## **Numpy Arrays**"
   ]
  },
  {
   "cell_type": "markdown",
   "metadata": {
    "id": "8KNg9t2mVxAb"
   },
   "source": [
    "**Python Objects:**\n",
    "\n",
    "1. high-level number objects: integers, floating point\n",
    "2. containers: lists (costless insertion and append), dictionaries (fast lookup)\n",
    "\n",
    "**Numpy provides:**\n",
    "\n",
    "1. extension package to Python for multi-dimensional arrays\n",
    "2. closer to hardware (efficiency)\n",
    "3. designed for scientific computation (convenience)\n",
    "4. Also known as array oriented computing\n"
   ]
  },
  {
   "cell_type": "code",
   "execution_count": 1,
   "metadata": {
    "colab": {
     "base_uri": "https://localhost:8080/",
     "height": 53
    },
    "id": "ItK1MqmVVgZC",
    "outputId": "4949f9bd-d070-4827-91ca-c040a5366590"
   },
   "outputs": [
    {
     "name": "stdout",
     "output_type": "stream",
     "text": [
      "[0 1 2 3]\n",
      "[0 1 2 3 4 5 6 7 8 9]\n"
     ]
    }
   ],
   "source": [
    "import numpy as np\n",
    "a = np.array([0, 1, 2, 3])\n",
    "print(a)\n",
    "print(np.arange(10)) # list or arrays from 0 to 9 "
   ]
  },
  {
   "cell_type": "markdown",
   "metadata": {
    "id": "kDG3mW-kXD67"
   },
   "source": [
    "**Why it is useful:** Memory-efficient container that provides fast numerical operations."
   ]
  },
  {
   "cell_type": "code",
   "execution_count": 2,
   "metadata": {
    "colab": {
     "base_uri": "https://localhost:8080/",
     "height": 35
    },
    "id": "6ws5kOFcW4J4",
    "outputId": "47197a22-5f83-4d38-c201-5e58899a35c3"
   },
   "outputs": [
    {
     "name": "stdout",
     "output_type": "stream",
     "text": [
      "216 µs ± 5.04 µs per loop (mean ± std. dev. of 7 runs, 1000 loops each)\n"
     ]
    }
   ],
   "source": [
    "# Python Lists\n",
    "L = range(1000)\n",
    "%timeit [i**2 for i in L]"
   ]
  },
  {
   "cell_type": "code",
   "execution_count": 3,
   "metadata": {
    "colab": {
     "base_uri": "https://localhost:8080/",
     "height": 73
    },
    "id": "qxCfkeUXX2Qd",
    "outputId": "f3529d26-57fd-45fb-9f44-e78ac0ec5b4f"
   },
   "outputs": [
    {
     "name": "stdout",
     "output_type": "stream",
     "text": [
      "1.13 µs ± 27.5 ns per loop (mean ± std. dev. of 7 runs, 1000000 loops each)\n"
     ]
    }
   ],
   "source": [
    " # Numpy array\n",
    "a = np.arange(1000)\n",
    "%timeit a**2"
   ]
  },
  {
   "cell_type": "markdown",
   "metadata": {
    "id": "l3Ge5nm5aTJ1"
   },
   "source": [
    "### **Creating arrays**"
   ]
  },
  {
   "cell_type": "markdown",
   "metadata": {
    "id": "2pQrbagceccV"
   },
   "source": [
    "#### **Manual Construction of arrays**"
   ]
  },
  {
   "cell_type": "code",
   "execution_count": 4,
   "metadata": {
    "colab": {
     "base_uri": "https://localhost:8080/",
     "height": 53
    },
    "id": "7B8u1shhYC8e",
    "outputId": "2aa668ca-3008-43be-a18a-07e25f0ccd61"
   },
   "outputs": [
    {
     "name": "stdout",
     "output_type": "stream",
     "text": [
      "CPU times: user 3 µs, sys: 0 ns, total: 3 µs\n",
      "Wall time: 5.25 µs\n"
     ]
    }
   ],
   "source": [
    "# Creating an 1_D array\n",
    "a = np.array([0, 1, 2, 3])\n",
    "a\n",
    "%time"
   ]
  },
  {
   "cell_type": "code",
   "execution_count": 5,
   "metadata": {
    "colab": {
     "base_uri": "https://localhost:8080/",
     "height": 35
    },
    "id": "ELBqahP0gOBt",
    "outputId": "7d3d71f5-fd1e-4112-fccd-187581e4eb64"
   },
   "outputs": [
    {
     "data": {
      "text/plain": [
       "1"
      ]
     },
     "execution_count": 5,
     "metadata": {},
     "output_type": "execute_result"
    }
   ],
   "source": [
    "# print dimensions\n",
    "a.ndim"
   ]
  },
  {
   "cell_type": "code",
   "execution_count": 6,
   "metadata": {
    "colab": {
     "base_uri": "https://localhost:8080/",
     "height": 35
    },
    "id": "fEiL6bctho6_",
    "outputId": "0b681ed5-1ff0-48d9-9857-b6a4b0f3da6c"
   },
   "outputs": [
    {
     "data": {
      "text/plain": [
       "(4,)"
      ]
     },
     "execution_count": 6,
     "metadata": {},
     "output_type": "execute_result"
    }
   ],
   "source": [
    "# shape\n",
    "a.shape"
   ]
  },
  {
   "cell_type": "code",
   "execution_count": 7,
   "metadata": {
    "colab": {
     "base_uri": "https://localhost:8080/",
     "height": 35
    },
    "id": "xWjdBgtyhsc0",
    "outputId": "178873f6-90a7-4bde-e146-b353adf35a95"
   },
   "outputs": [
    {
     "data": {
      "text/plain": [
       "4"
      ]
     },
     "execution_count": 7,
     "metadata": {},
     "output_type": "execute_result"
    }
   ],
   "source": [
    "len(a)"
   ]
  },
  {
   "cell_type": "code",
   "execution_count": 8,
   "metadata": {
    "colab": {
     "base_uri": "https://localhost:8080/",
     "height": 53
    },
    "id": "usYDwG1bmzjL",
    "outputId": "fa01f277-831a-417d-e1a8-53dce4276e72"
   },
   "outputs": [
    {
     "data": {
      "text/plain": [
       "array([[0, 1, 2],\n",
       "       [3, 4, 5]])"
      ]
     },
     "execution_count": 8,
     "metadata": {},
     "output_type": "execute_result"
    }
   ],
   "source": [
    "# 2-D, 3-D Numpy array\n",
    "b = np.array([[0, 1, 2], [3, 4, 5]])\n",
    "b"
   ]
  },
  {
   "cell_type": "code",
   "execution_count": 9,
   "metadata": {
    "colab": {
     "base_uri": "https://localhost:8080/",
     "height": 35
    },
    "id": "ud4I1LcgnNU2",
    "outputId": "4c35c8e4-4815-46e8-a5af-8be50eebcb54"
   },
   "outputs": [
    {
     "data": {
      "text/plain": [
       "2"
      ]
     },
     "execution_count": 9,
     "metadata": {},
     "output_type": "execute_result"
    }
   ],
   "source": [
    "b.ndim"
   ]
  },
  {
   "cell_type": "code",
   "execution_count": 10,
   "metadata": {
    "colab": {
     "base_uri": "https://localhost:8080/",
     "height": 35
    },
    "id": "7Iu0GmZ9nN_5",
    "outputId": "6a0226b4-d4c0-48db-e438-bc72b5a32dee"
   },
   "outputs": [
    {
     "data": {
      "text/plain": [
       "(2, 3)"
      ]
     },
     "execution_count": 10,
     "metadata": {},
     "output_type": "execute_result"
    }
   ],
   "source": [
    "b.shape"
   ]
  },
  {
   "cell_type": "code",
   "execution_count": 11,
   "metadata": {
    "colab": {
     "base_uri": "https://localhost:8080/",
     "height": 35
    },
    "id": "2aagQoGInReL",
    "outputId": "ecc579f5-3fe5-4fb0-c9a1-e3068677b8e4"
   },
   "outputs": [
    {
     "data": {
      "text/plain": [
       "2"
      ]
     },
     "execution_count": 11,
     "metadata": {},
     "output_type": "execute_result"
    }
   ],
   "source": [
    "len(b) #returns the size of the first dimention"
   ]
  },
  {
   "cell_type": "code",
   "execution_count": 12,
   "metadata": {
    "colab": {
     "base_uri": "https://localhost:8080/",
     "height": 107
    },
    "id": "hU0sS4rJnVSJ",
    "outputId": "e440c556-16f1-4fc5-9e96-f3311480cee6"
   },
   "outputs": [
    {
     "data": {
      "text/plain": [
       "array([[[0, 1],\n",
       "        [2, 3]],\n",
       "\n",
       "       [[4, 5],\n",
       "        [6, 7]]])"
      ]
     },
     "execution_count": 12,
     "metadata": {},
     "output_type": "execute_result"
    }
   ],
   "source": [
    "c = np.array([[[0, 1], [2, 3]], [[4, 5], [6, 7]]])\n",
    "c"
   ]
  },
  {
   "cell_type": "code",
   "execution_count": 13,
   "metadata": {
    "colab": {
     "base_uri": "https://localhost:8080/",
     "height": 35
    },
    "id": "9BESmu8kncCI",
    "outputId": "d672c09e-f694-4728-fec4-6d64b86a407c"
   },
   "outputs": [
    {
     "data": {
      "text/plain": [
       "3"
      ]
     },
     "execution_count": 13,
     "metadata": {},
     "output_type": "execute_result"
    }
   ],
   "source": [
    "c.ndim"
   ]
  },
  {
   "cell_type": "code",
   "execution_count": 14,
   "metadata": {
    "colab": {
     "base_uri": "https://localhost:8080/",
     "height": 35
    },
    "id": "xIgWtJOVLvwK",
    "outputId": "897085b0-7882-4c40-e1a0-92edcaa6eec2"
   },
   "outputs": [
    {
     "data": {
      "text/plain": [
       "(2, 2, 2)"
      ]
     },
     "execution_count": 14,
     "metadata": {},
     "output_type": "execute_result"
    }
   ],
   "source": [
    "c.shape"
   ]
  },
  {
   "cell_type": "markdown",
   "metadata": {
    "id": "KcwLNc3zMk_-"
   },
   "source": [
    "Basically an,\n",
    "- 1D array --> Vector\n",
    "- 2D array --> Matrix\n",
    "- **ND array --> Tensor**"
   ]
  },
  {
   "cell_type": "markdown",
   "metadata": {
    "id": "NSkBVmuyL80b"
   },
   "source": [
    "#### **Functions for creating arrays** "
   ]
  },
  {
   "cell_type": "code",
   "execution_count": 15,
   "metadata": {
    "colab": {
     "base_uri": "https://localhost:8080/",
     "height": 35
    },
    "id": "nVCpnndkLxGn",
    "outputId": "26783a67-458c-4963-b414-fdfac39c0c7c"
   },
   "outputs": [
    {
     "data": {
      "text/plain": [
       "array([0, 1, 2, 3, 4, 5, 6, 7, 8, 9])"
      ]
     },
     "execution_count": 15,
     "metadata": {},
     "output_type": "execute_result"
    }
   ],
   "source": [
    "# Using arrange function\n",
    "# arange is an array-valued version of the built-in Python range function\n",
    "a = np.arange(10) # 0.... n-1\n",
    "a"
   ]
  },
  {
   "cell_type": "code",
   "execution_count": 16,
   "metadata": {
    "colab": {
     "base_uri": "https://localhost:8080/",
     "height": 35
    },
    "id": "p7GO--fCMaFN",
    "outputId": "cbe916ee-64c3-4d64-8cc5-18a5bd57c14f"
   },
   "outputs": [
    {
     "data": {
      "text/plain": [
       "array([1, 3, 5, 7, 9])"
      ]
     },
     "execution_count": 16,
     "metadata": {},
     "output_type": "execute_result"
    }
   ],
   "source": [
    "b = np.arange(1, 10, 2) #start, end (exclusive), step\n",
    "b"
   ]
  },
  {
   "cell_type": "code",
   "execution_count": 17,
   "metadata": {
    "colab": {
     "base_uri": "https://localhost:8080/",
     "height": 35
    },
    "id": "VIHqfQsLNPYQ",
    "outputId": "50e606ec-2023-481d-f966-ca3e94793de5"
   },
   "outputs": [
    {
     "data": {
      "text/plain": [
       "array([0. , 0.2, 0.4, 0.6, 0.8, 1. ])"
      ]
     },
     "execution_count": 17,
     "metadata": {},
     "output_type": "execute_result"
    }
   ],
   "source": [
    "#using linspace that is n equal points\n",
    "a = np.linspace(0, 1, 6) #start, end, n-number of points\n",
    "a"
   ]
  },
  {
   "cell_type": "code",
   "execution_count": 18,
   "metadata": {
    "colab": {
     "base_uri": "https://localhost:8080/",
     "height": 71
    },
    "id": "MvzJKOpzNSdI",
    "outputId": "02427b5e-47d1-4d8e-9978-1939d74fdf2d"
   },
   "outputs": [
    {
     "data": {
      "text/plain": [
       "array([[1., 1., 1.],\n",
       "       [1., 1., 1.],\n",
       "       [1., 1., 1.]])"
      ]
     },
     "execution_count": 18,
     "metadata": {},
     "output_type": "execute_result"
    }
   ],
   "source": [
    "# common arrays for all ones in array\n",
    "a = np.ones((3, 3))\n",
    "a"
   ]
  },
  {
   "cell_type": "code",
   "execution_count": 19,
   "metadata": {
    "colab": {
     "base_uri": "https://localhost:8080/",
     "height": 71
    },
    "id": "X6ubngbDNVOV",
    "outputId": "fd987b69-a446-4ccf-d4c1-f5a85b1d99b2"
   },
   "outputs": [
    {
     "data": {
      "text/plain": [
       "array([[0., 0., 0.],\n",
       "       [0., 0., 0.],\n",
       "       [0., 0., 0.]])"
      ]
     },
     "execution_count": 19,
     "metadata": {},
     "output_type": "execute_result"
    }
   ],
   "source": [
    "# common arrays for all zeros in array\n",
    "b = np.zeros((3, 3))\n",
    "b"
   ]
  },
  {
   "cell_type": "code",
   "execution_count": 20,
   "metadata": {
    "colab": {
     "base_uri": "https://localhost:8080/",
     "height": 71
    },
    "id": "6vZZPuxMOAz_",
    "outputId": "ebb53f9d-b1bd-43e1-fa44-3c700e217e59"
   },
   "outputs": [
    {
     "data": {
      "text/plain": [
       "array([[1., 0., 0.],\n",
       "       [0., 1., 0.],\n",
       "       [0., 0., 1.]])"
      ]
     },
     "execution_count": 20,
     "metadata": {},
     "output_type": "execute_result"
    }
   ],
   "source": [
    "c = np.eye(3) # Return a 2-D array with ones on diagonal and zeros elsewhere\n",
    "c"
   ]
  },
  {
   "cell_type": "code",
   "execution_count": 21,
   "metadata": {
    "colab": {
     "base_uri": "https://localhost:8080/",
     "height": 71
    },
    "id": "3liC8Ex_Oi57",
    "outputId": "2d555715-59cf-425f-e97a-84813b20cb23"
   },
   "outputs": [
    {
     "data": {
      "text/plain": [
       "array([[1., 0.],\n",
       "       [0., 1.],\n",
       "       [0., 0.]])"
      ]
     },
     "execution_count": 21,
     "metadata": {},
     "output_type": "execute_result"
    }
   ],
   "source": [
    "i = np.eye(3, 2)\n",
    "i # 3 is number of rows, 2 is number of columns , index of diagonal start with 0\n"
   ]
  },
  {
   "cell_type": "code",
   "execution_count": 22,
   "metadata": {
    "colab": {
     "base_uri": "https://localhost:8080/",
     "height": 89
    },
    "id": "S-5hxY_0PBg2",
    "outputId": "26922f9d-7472-4a2d-8332-85dd8e86cba7"
   },
   "outputs": [
    {
     "data": {
      "text/plain": [
       "array([[1, 0, 0, 0],\n",
       "       [0, 2, 0, 0],\n",
       "       [0, 0, 3, 0],\n",
       "       [0, 0, 0, 4]])"
      ]
     },
     "execution_count": 22,
     "metadata": {},
     "output_type": "execute_result"
    }
   ],
   "source": [
    "# create array using diag function\n",
    "a = np.diag([1, 2, 3, 4]) # construc a diagonal array\n",
    "a"
   ]
  },
  {
   "cell_type": "code",
   "execution_count": 23,
   "metadata": {
    "colab": {
     "base_uri": "https://localhost:8080/",
     "height": 35
    },
    "id": "IsLkcGYUY6pH",
    "outputId": "cdad19e1-c9f2-4952-d323-ea0174fb477f"
   },
   "outputs": [
    {
     "data": {
      "text/plain": [
       "array([1, 2, 3, 4])"
      ]
     },
     "execution_count": 23,
     "metadata": {},
     "output_type": "execute_result"
    }
   ],
   "source": [
    " np.diag(a)"
   ]
  },
  {
   "cell_type": "code",
   "execution_count": 24,
   "metadata": {
    "colab": {
     "base_uri": "https://localhost:8080/",
     "height": 35
    },
    "id": "UnIJRvg5Y-Es",
    "outputId": "f1ba2f29-1343-42fb-b1d8-0c0ef40c9c40"
   },
   "outputs": [
    {
     "data": {
      "text/plain": [
       "array([0.32812742, 0.11207833, 0.27570279, 0.7359096 ])"
      ]
     },
     "execution_count": 24,
     "metadata": {},
     "output_type": "execute_result"
    }
   ],
   "source": [
    "# create a array using random and randn - rand normal\n",
    "# Create an array of the given shape and populate it with random samples from a uniform distribution over [0, 1).\n",
    "a = np.random.rand(4)\n",
    "a"
   ]
  },
  {
   "cell_type": "code",
   "execution_count": 25,
   "metadata": {
    "colab": {
     "base_uri": "https://localhost:8080/",
     "height": 35
    },
    "id": "785kcfijZU4h",
    "outputId": "0a4bf374-bd72-423e-b9e7-efc342469dc8"
   },
   "outputs": [
    {
     "data": {
      "text/plain": [
       "array([ 0.69427064, -1.87381683, -1.41866878,  0.59548813])"
      ]
     },
     "execution_count": 25,
     "metadata": {},
     "output_type": "execute_result"
    }
   ],
   "source": [
    "a = np.random.randn(4)#Return a sample (or samples) from the “standard normal” distribution.  ***Gausian***\n",
    "a"
   ]
  },
  {
   "cell_type": "markdown",
   "metadata": {
    "id": "VOInE-yoZi6G"
   },
   "source": [
    "**Note**\n",
    "<br>\n",
    "For random samples from N(\\mu, \\sigma^2), use:\n",
    "sigma * np.random.randn(...) + mu"
   ]
  },
  {
   "cell_type": "markdown",
   "metadata": {
    "id": "Q88kLnABacFS"
   },
   "source": [
    "### **Basic DataTypes**"
   ]
  },
  {
   "cell_type": "markdown",
   "metadata": {
    "id": "BtkFXGhfaidP"
   },
   "source": [
    "You may have noticed that, in some instances, array elements are displayed with a trailing dot (e.g. 2. vs 2). This is due to a difference in the data-type used:"
   ]
  },
  {
   "cell_type": "code",
   "execution_count": 26,
   "metadata": {
    "colab": {
     "base_uri": "https://localhost:8080/",
     "height": 35
    },
    "id": "afF26xWYZhKf",
    "outputId": "57710cbf-6384-4dd3-ee4b-152d75be6320"
   },
   "outputs": [
    {
     "data": {
      "text/plain": [
       "dtype('int64')"
      ]
     },
     "execution_count": 26,
     "metadata": {},
     "output_type": "execute_result"
    }
   ],
   "source": [
    "a = np.arange(10)\n",
    "a.dtype"
   ]
  },
  {
   "cell_type": "code",
   "execution_count": 27,
   "metadata": {
    "colab": {
     "base_uri": "https://localhost:8080/",
     "height": 35
    },
    "id": "cjTTzypUamjn",
    "outputId": "9083e04d-6966-4438-bcf4-87df24db6e5e"
   },
   "outputs": [
    {
     "data": {
      "text/plain": [
       "array([0., 1., 2., 3., 4., 5., 6., 7., 8., 9.])"
      ]
     },
     "execution_count": 27,
     "metadata": {},
     "output_type": "execute_result"
    }
   ],
   "source": [
    "# You can explicitly specify which data-type you want:\n",
    "a = np.arange(10, dtype='float64')\n",
    "a"
   ]
  },
  {
   "cell_type": "code",
   "execution_count": 28,
   "metadata": {
    "colab": {
     "base_uri": "https://localhost:8080/",
     "height": 89
    },
    "id": "ZDMWJe-bapBa",
    "outputId": "38c414d9-9b14-470c-96bb-44dc94be0485"
   },
   "outputs": [
    {
     "name": "stdout",
     "output_type": "stream",
     "text": [
      "[[0. 0. 0.]\n",
      " [0. 0. 0.]\n",
      " [0. 0. 0.]]\n"
     ]
    },
    {
     "data": {
      "text/plain": [
       "dtype('float64')"
      ]
     },
     "execution_count": 28,
     "metadata": {},
     "output_type": "execute_result"
    }
   ],
   "source": [
    "# The default data type is float for zeros and ones function\n",
    "a = np.zeros((3, 3))\n",
    "print(a)\n",
    "a.dtype"
   ]
  },
  {
   "cell_type": "markdown",
   "metadata": {
    "id": "mhRUcpida3se"
   },
   "source": [
    "There are also other datatypes"
   ]
  },
  {
   "cell_type": "code",
   "execution_count": 29,
   "metadata": {
    "colab": {
     "base_uri": "https://localhost:8080/",
     "height": 35
    },
    "id": "DO1GP4m6a0E6",
    "outputId": "ac40a579-ca61-44c1-d5c7-d8c02199eb26"
   },
   "outputs": [
    {
     "name": "stdout",
     "output_type": "stream",
     "text": [
      "complex128\n"
     ]
    }
   ],
   "source": [
    "d = np.array([1+2j, 2+4j])   #Complex datatype\n",
    "print(d.dtype)"
   ]
  },
  {
   "cell_type": "code",
   "execution_count": 30,
   "metadata": {
    "colab": {
     "base_uri": "https://localhost:8080/",
     "height": 35
    },
    "id": "kxL3UG6Va8zB",
    "outputId": "e948c852-ad49-4848-96ba-14838db967e9"
   },
   "outputs": [
    {
     "name": "stdout",
     "output_type": "stream",
     "text": [
      "bool\n"
     ]
    }
   ],
   "source": [
    "b = np.array([True, False, True, False])  #Boolean datatype\n",
    "print(b.dtype)"
   ]
  },
  {
   "cell_type": "code",
   "execution_count": 31,
   "metadata": {
    "colab": {
     "base_uri": "https://localhost:8080/",
     "height": 35
    },
    "id": "uhyX1_gjbAuV",
    "outputId": "ffcd0592-dba7-421f-9cac-8c248ba3895b"
   },
   "outputs": [
    {
     "data": {
      "text/plain": [
       "dtype('<U6')"
      ]
     },
     "execution_count": 31,
     "metadata": {},
     "output_type": "execute_result"
    }
   ],
   "source": [
    "s = np.array(['Ram', 'Robert', 'Rahim'])\n",
    "s.dtype"
   ]
  },
  {
   "cell_type": "markdown",
   "metadata": {
    "id": "OUGmoZIqbGaL"
   },
   "source": [
    "**Each built-in data type has a character code that uniquely identifies it.**\n",
    "\n",
    "- 'b' − boolean\n",
    "- 'i' − (signed) integer\n",
    "- 'u' − unsigned integer\n",
    "- 'f' − floating-point\n",
    "- 'c' − complex-floating point\n",
    "- 'm' − timedelta\n",
    "- 'M' − datetime\n",
    "- 'O' − (Python) objects\n",
    "- 'S', 'a' − (byte-)string\n",
    "- 'U' − Unicode\n",
    "- 'V' − raw data (void)\n",
    "\n",
    "\n",
    "**For more details:**\n",
    "https://docs.scipy.org/doc/numpy-1.10.1/user/basics.types.html**"
   ]
  },
  {
   "cell_type": "markdown",
   "metadata": {
    "id": "BNAK6hm8bmzu"
   },
   "source": [
    "### **Indexing and Slicing**"
   ]
  },
  {
   "cell_type": "markdown",
   "metadata": {
    "id": "BSBr-MKlbrjr"
   },
   "source": [
    "#### **Indexing**\n",
    "\n",
    "The items of an array can be accessed and assigned to the same way as other Python sequences (e.g. lists):"
   ]
  },
  {
   "cell_type": "code",
   "execution_count": 32,
   "metadata": {
    "colab": {
     "base_uri": "https://localhost:8080/",
     "height": 35
    },
    "id": "AphcXGb_bDQk",
    "outputId": "5f217a4d-1559-4d40-8e3e-cab29d25ed35"
   },
   "outputs": [
    {
     "name": "stdout",
     "output_type": "stream",
     "text": [
      "5\n"
     ]
    }
   ],
   "source": [
    "a = np.arange(10)\n",
    "print(a[5])  #indices begin at 0, like other Python sequences (and C/C++)"
   ]
  },
  {
   "cell_type": "code",
   "execution_count": 33,
   "metadata": {
    "colab": {
     "base_uri": "https://localhost:8080/",
     "height": 35
    },
    "id": "JYpjorobb1lX",
    "outputId": "be3f7182-9af7-4d0d-a2fb-02622870c276"
   },
   "outputs": [
    {
     "name": "stdout",
     "output_type": "stream",
     "text": [
      "3\n"
     ]
    }
   ],
   "source": [
    "# For multidimensional arrays, indexes are tuples of integers:\n",
    "a = np.diag([1, 2, 3])\n",
    "print(a[2, 2])"
   ]
  },
  {
   "cell_type": "code",
   "execution_count": 34,
   "metadata": {
    "colab": {
     "base_uri": "https://localhost:8080/",
     "height": 71
    },
    "id": "GzrjPOfyb4YH",
    "outputId": "d3093bd0-6024-48c7-b2f5-31aa229d9746"
   },
   "outputs": [
    {
     "data": {
      "text/plain": [
       "array([[1, 0, 0],\n",
       "       [0, 2, 0],\n",
       "       [0, 5, 3]])"
      ]
     },
     "execution_count": 34,
     "metadata": {},
     "output_type": "execute_result"
    }
   ],
   "source": [
    "a[2, 1] = 5 #assigning value\n",
    "a"
   ]
  },
  {
   "cell_type": "markdown",
   "metadata": {
    "id": "pHljusT6cES9"
   },
   "source": [
    "#### **Slicing**"
   ]
  },
  {
   "cell_type": "code",
   "execution_count": 35,
   "metadata": {
    "colab": {
     "base_uri": "https://localhost:8080/",
     "height": 35
    },
    "id": "5LpVwVxXb6Cs",
    "outputId": "52cc2249-f72f-4cd7-e3ff-d5d0ac472f76"
   },
   "outputs": [
    {
     "data": {
      "text/plain": [
       "array([0, 1, 2, 3, 4, 5, 6, 7, 8, 9])"
      ]
     },
     "execution_count": 35,
     "metadata": {},
     "output_type": "execute_result"
    }
   ],
   "source": [
    "a = np.arange(10)\n",
    "a"
   ]
  },
  {
   "cell_type": "code",
   "execution_count": 36,
   "metadata": {
    "colab": {
     "base_uri": "https://localhost:8080/",
     "height": 35
    },
    "id": "xjaRizbNcIbb",
    "outputId": "029eb6de-80e6-4095-ea39-8bd856735b2c"
   },
   "outputs": [
    {
     "data": {
      "text/plain": [
       "array([1, 3, 5, 7])"
      ]
     },
     "execution_count": 36,
     "metadata": {},
     "output_type": "execute_result"
    }
   ],
   "source": [
    "a[1:8:2] # [startindex: endindex(exclusive) : step]"
   ]
  },
  {
   "cell_type": "code",
   "execution_count": 37,
   "metadata": {
    "colab": {
     "base_uri": "https://localhost:8080/",
     "height": 35
    },
    "id": "NfQp8S7rcJ-o",
    "outputId": "a38d15fc-096e-44c4-d8c5-9f265524c4ce"
   },
   "outputs": [
    {
     "data": {
      "text/plain": [
       "array([ 0,  1,  2,  3,  4, 10, 10, 10, 10, 10])"
      ]
     },
     "execution_count": 37,
     "metadata": {},
     "output_type": "execute_result"
    }
   ],
   "source": [
    "#we can also combine assignment and slicing:\n",
    "a = np.arange(10)\n",
    "a[5:] = 10\n",
    "a"
   ]
  },
  {
   "cell_type": "code",
   "execution_count": 38,
   "metadata": {
    "colab": {
     "base_uri": "https://localhost:8080/",
     "height": 35
    },
    "id": "FKbHKyoLcN6v",
    "outputId": "2955fe21-7ec2-4b7e-c865-4103edc7c189"
   },
   "outputs": [
    {
     "data": {
      "text/plain": [
       "array([0, 1, 2, 3, 4, 4, 3, 2, 1, 0])"
      ]
     },
     "execution_count": 38,
     "metadata": {},
     "output_type": "execute_result"
    }
   ],
   "source": [
    "b = np.arange(5)\n",
    "a[5:] = b[::-1]  #assigning\n",
    "a"
   ]
  },
  {
   "cell_type": "markdown",
   "metadata": {
    "id": "RVX-w9AdcR9F"
   },
   "source": [
    "### **Copies and Views**"
   ]
  },
  {
   "cell_type": "markdown",
   "metadata": {
    "id": "IoCpEEObcZyJ"
   },
   "source": [
    "A slicing operation creates a view on the original array, which is just a way of accessing array data. Thus the original array is not copied in memory. You can use np.may_share_memory() to check if two arrays share the same memory block.\n",
    "\n",
    "When modifying the view, the original array is modified as well:"
   ]
  },
  {
   "cell_type": "code",
   "execution_count": 39,
   "metadata": {
    "colab": {
     "base_uri": "https://localhost:8080/",
     "height": 35
    },
    "id": "621jNre7cPgb",
    "outputId": "8e704113-5122-4c47-e119-bd13530ccb5a"
   },
   "outputs": [
    {
     "data": {
      "text/plain": [
       "array([0, 1, 2, 3, 4, 5, 6, 7, 8, 9])"
      ]
     },
     "execution_count": 39,
     "metadata": {},
     "output_type": "execute_result"
    }
   ],
   "source": [
    "a = np.arange(10)\n",
    "a"
   ]
  },
  {
   "cell_type": "code",
   "execution_count": 40,
   "metadata": {
    "colab": {
     "base_uri": "https://localhost:8080/",
     "height": 35
    },
    "id": "Eh78ckUzrs1w",
    "outputId": "ad67dd01-ff11-4c59-f887-95e0ae380939"
   },
   "outputs": [
    {
     "data": {
      "text/plain": [
       "array([0, 2, 4, 6, 8])"
      ]
     },
     "execution_count": 40,
     "metadata": {},
     "output_type": "execute_result"
    }
   ],
   "source": [
    "b = a[::2]\n",
    "b"
   ]
  },
  {
   "cell_type": "code",
   "execution_count": 41,
   "metadata": {
    "colab": {
     "base_uri": "https://localhost:8080/",
     "height": 35
    },
    "id": "9WV7iE1lrt76",
    "outputId": "110c1d6c-1ee7-4f68-d674-407a5ed5c90a"
   },
   "outputs": [
    {
     "data": {
      "text/plain": [
       "True"
      ]
     },
     "execution_count": 41,
     "metadata": {},
     "output_type": "execute_result"
    }
   ],
   "source": [
    "np.shares_memory(a, b)"
   ]
  },
  {
   "cell_type": "code",
   "execution_count": 42,
   "metadata": {
    "colab": {
     "base_uri": "https://localhost:8080/",
     "height": 35
    },
    "id": "kvba-xLTrvQk",
    "outputId": "6c014df2-ae30-44b3-ddb9-0ae1ce104a0b"
   },
   "outputs": [
    {
     "data": {
      "text/plain": [
       "array([10,  2,  4,  6,  8])"
      ]
     },
     "execution_count": 42,
     "metadata": {},
     "output_type": "execute_result"
    }
   ],
   "source": [
    "b[0] = 10\n",
    "b"
   ]
  },
  {
   "cell_type": "code",
   "execution_count": 43,
   "metadata": {
    "colab": {
     "base_uri": "https://localhost:8080/",
     "height": 35
    },
    "id": "rAFI5w8DrwfF",
    "outputId": "ff87211f-4c2c-4165-9e00-b528bec33332"
   },
   "outputs": [
    {
     "data": {
      "text/plain": [
       "array([10,  1,  2,  3,  4,  5,  6,  7,  8,  9])"
      ]
     },
     "execution_count": 43,
     "metadata": {},
     "output_type": "execute_result"
    }
   ],
   "source": [
    "a  #eventhough we modified b,  it updated 'a' because both shares same memory"
   ]
  },
  {
   "cell_type": "code",
   "execution_count": 44,
   "metadata": {
    "colab": {
     "base_uri": "https://localhost:8080/",
     "height": 35
    },
    "id": "-lL-Blp6rxu2",
    "outputId": "939bf8c6-9e73-4a41-ae2a-01addeb834a7"
   },
   "outputs": [
    {
     "data": {
      "text/plain": [
       "array([0, 2, 4, 6, 8])"
      ]
     },
     "execution_count": 44,
     "metadata": {},
     "output_type": "execute_result"
    }
   ],
   "source": [
    "a = np.arange(10)\n",
    "c = a[::2].copy()     #force a copy\n",
    "c"
   ]
  },
  {
   "cell_type": "code",
   "execution_count": 45,
   "metadata": {
    "colab": {
     "base_uri": "https://localhost:8080/",
     "height": 35
    },
    "id": "Kday0nogrzvQ",
    "outputId": "0fa06709-eeda-46df-aace-d66cfd4c67f6"
   },
   "outputs": [
    {
     "data": {
      "text/plain": [
       "False"
      ]
     },
     "execution_count": 45,
     "metadata": {},
     "output_type": "execute_result"
    }
   ],
   "source": [
    "np.shares_memory(a, c)"
   ]
  },
  {
   "cell_type": "code",
   "execution_count": 46,
   "metadata": {
    "colab": {
     "base_uri": "https://localhost:8080/",
     "height": 35
    },
    "id": "JToevKC1r0-x",
    "outputId": "f2ead6f1-1857-43d0-b96e-b7eaedb27067"
   },
   "outputs": [
    {
     "data": {
      "text/plain": [
       "array([0, 1, 2, 3, 4, 5, 6, 7, 8, 9])"
      ]
     },
     "execution_count": 46,
     "metadata": {},
     "output_type": "execute_result"
    }
   ],
   "source": [
    "c[0] = 10\n",
    "a"
   ]
  },
  {
   "cell_type": "markdown",
   "metadata": {
    "id": "7XrXuUSAtEuu"
   },
   "source": [
    "### **Fancy Indexing**"
   ]
  },
  {
   "cell_type": "markdown",
   "metadata": {
    "id": "Y_uKZSBCtNnn"
   },
   "source": [
    "NumPy arrays can be indexed with slices, but also with boolean or integer arrays (masks). This method is called fancy indexing. It creates copies not views.\n",
    "\n",
    "**Using Boolean Mask** "
   ]
  },
  {
   "cell_type": "code",
   "execution_count": 47,
   "metadata": {
    "colab": {
     "base_uri": "https://localhost:8080/",
     "height": 35
    },
    "id": "tJtMHlPhr2ba",
    "outputId": "8f1f01f0-9ff2-4248-9446-9d9d47a83f03"
   },
   "outputs": [
    {
     "data": {
      "text/plain": [
       "array([ 6,  1, 15,  1, 18,  4,  2, 18, 12, 19, 18,  3, 19,  8,  1])"
      ]
     },
     "execution_count": 47,
     "metadata": {
      "tags": []
     },
     "output_type": "execute_result"
    }
   ],
   "source": [
    "a = np.random.randint(0, 20, 15)\n",
    "a"
   ]
  },
  {
   "cell_type": "code",
   "execution_count": 48,
   "metadata": {
    "id": "5evJjArgtUdP"
   },
   "outputs": [],
   "source": [
    "mask = (a % 2 == 0)"
   ]
  },
  {
   "cell_type": "code",
   "execution_count": 49,
   "metadata": {
    "colab": {
     "base_uri": "https://localhost:8080/",
     "height": 35
    },
    "id": "JALpJhQ_tWlq",
    "outputId": "5980a270-ffd1-4699-b8fd-ceb4cc6aa376"
   },
   "outputs": [
    {
     "data": {
      "text/plain": [
       "array([ 6, 18,  4,  2, 18, 12, 18,  8])"
      ]
     },
     "execution_count": 49,
     "metadata": {
      "tags": []
     },
     "output_type": "execute_result"
    }
   ],
   "source": [
    "extract_from_a = a[mask]\n",
    "extract_from_a"
   ]
  },
  {
   "cell_type": "markdown",
   "metadata": {
    "id": "N8Bd3ho7tiSp"
   },
   "source": [
    "**Indexing with a mask can be very useful to assign a new value to a sub-array:**"
   ]
  },
  {
   "cell_type": "code",
   "execution_count": 50,
   "metadata": {
    "colab": {
     "base_uri": "https://localhost:8080/",
     "height": 35
    },
    "id": "9QZ5sNDMtdan",
    "outputId": "7ca5c234-83eb-4f35-8fda-a977b2c9c6bb"
   },
   "outputs": [
    {
     "data": {
      "text/plain": [
       "array([-1,  1, 15,  1, -1, -1, -1, -1, -1, 19, -1,  3, 19, -1,  1])"
      ]
     },
     "execution_count": 50,
     "metadata": {
      "tags": []
     },
     "output_type": "execute_result"
    }
   ],
   "source": [
    "a[mask] = -1\n",
    "a"
   ]
  },
  {
   "cell_type": "markdown",
   "metadata": {
    "id": "GIzoap_xufWf"
   },
   "source": [
    "**Indexing with an array of integers**"
   ]
  },
  {
   "cell_type": "code",
   "execution_count": 51,
   "metadata": {
    "colab": {
     "base_uri": "https://localhost:8080/",
     "height": 35
    },
    "id": "sUkPC7W7ugB7",
    "outputId": "87a31ccd-b727-4b66-877b-9f1a575289b8"
   },
   "outputs": [
    {
     "data": {
      "text/plain": [
       "array([ 0, 10, 20, 30, 40, 50, 60, 70, 80, 90])"
      ]
     },
     "execution_count": 51,
     "metadata": {
      "tags": []
     },
     "output_type": "execute_result"
    }
   ],
   "source": [
    "a = np.arange(0, 100, 10)\n",
    "a"
   ]
  },
  {
   "cell_type": "code",
   "execution_count": 52,
   "metadata": {
    "colab": {
     "base_uri": "https://localhost:8080/",
     "height": 35
    },
    "id": "iAKMKaLvuBdf",
    "outputId": "2bbdc525-886d-4917-a791-9fef2e7aa5af"
   },
   "outputs": [
    {
     "data": {
      "text/plain": [
       "array([20, 30, 20, 40, 20])"
      ]
     },
     "execution_count": 52,
     "metadata": {
      "tags": []
     },
     "output_type": "execute_result"
    }
   ],
   "source": [
    "#Indexing can be done with an array of integers, where the same index is repeated several time:\n",
    "a[[2, 3, 2, 4, 2]]"
   ]
  },
  {
   "cell_type": "code",
   "execution_count": 53,
   "metadata": {
    "colab": {
     "base_uri": "https://localhost:8080/",
     "height": 35
    },
    "id": "fTbPWoAcuHLY",
    "outputId": "24e357d0-1b71-439d-c9ae-f55c412c1d0e"
   },
   "outputs": [
    {
     "data": {
      "text/plain": [
       "array([   0,   10,   20,   30,   40,   50,   60, -200,   80, -200])"
      ]
     },
     "execution_count": 53,
     "metadata": {
      "tags": []
     },
     "output_type": "execute_result"
    }
   ],
   "source": [
    "# New values can be assigned \n",
    "a[[9, 7]] = -200\n",
    "a"
   ]
  },
  {
   "cell_type": "markdown",
   "metadata": {
    "id": "UDFzzl6a7W-a"
   },
   "source": [
    "### **Elementwise Operations**"
   ]
  },
  {
   "cell_type": "markdown",
   "metadata": {
    "id": "NioQai2L7fA5"
   },
   "source": [
    "#### **Baisc Operaitons**"
   ]
  },
  {
   "cell_type": "markdown",
   "metadata": {
    "id": "Y3xZzmZJ7jdO"
   },
   "source": [
    "**with scalars**"
   ]
  },
  {
   "cell_type": "code",
   "execution_count": 54,
   "metadata": {
    "colab": {
     "base_uri": "https://localhost:8080/",
     "height": 35
    },
    "id": "pKLE9-nLuKjG",
    "outputId": "9ab0e3a5-12e0-4368-f0f1-0506f10c1403"
   },
   "outputs": [
    {
     "data": {
      "text/plain": [
       "array([2, 3, 4, 5])"
      ]
     },
     "execution_count": 54,
     "metadata": {
      "tags": []
     },
     "output_type": "execute_result"
    }
   ],
   "source": [
    "a = np.array([1, 2, 3, 4]) # create an array\n",
    "a + 1"
   ]
  },
  {
   "cell_type": "code",
   "execution_count": 55,
   "metadata": {
    "colab": {
     "base_uri": "https://localhost:8080/",
     "height": 35
    },
    "id": "8C8WFoKG7zUh",
    "outputId": "40bcf19e-52d7-4323-e81f-d3d3be53b60c"
   },
   "outputs": [
    {
     "data": {
      "text/plain": [
       "array([ 1,  4,  9, 16])"
      ]
     },
     "execution_count": 55,
     "metadata": {
      "tags": []
     },
     "output_type": "execute_result"
    }
   ],
   "source": [
    "a ** 2 # squares elementwise"
   ]
  },
  {
   "cell_type": "markdown",
   "metadata": {
    "id": "uijbPyvs8A0B"
   },
   "source": [
    "**All arithmetic operates elementwise**"
   ]
  },
  {
   "cell_type": "code",
   "execution_count": 56,
   "metadata": {
    "colab": {
     "base_uri": "https://localhost:8080/",
     "height": 35
    },
    "id": "V25PpJ4S7-oy",
    "outputId": "9904361f-0854-420e-b04d-59ba68302570"
   },
   "outputs": [
    {
     "data": {
      "text/plain": [
       "array([-1.,  0.,  1.,  2.])"
      ]
     },
     "execution_count": 56,
     "metadata": {
      "tags": []
     },
     "output_type": "execute_result"
    }
   ],
   "source": [
    "b = np.ones(4) + 1\n",
    "a - b"
   ]
  },
  {
   "cell_type": "code",
   "execution_count": 57,
   "metadata": {
    "colab": {
     "base_uri": "https://localhost:8080/",
     "height": 35
    },
    "id": "_UVInnu98LtU",
    "outputId": "16560231-3cfb-465a-8cfa-1928c0da4518"
   },
   "outputs": [
    {
     "data": {
      "text/plain": [
       "array([2., 4., 6., 8.])"
      ]
     },
     "execution_count": 57,
     "metadata": {
      "tags": []
     },
     "output_type": "execute_result"
    }
   ],
   "source": [
    "a * b"
   ]
  },
  {
   "cell_type": "code",
   "execution_count": 58,
   "metadata": {
    "colab": {
     "base_uri": "https://localhost:8080/",
     "height": 179
    },
    "id": "hLjzfqgL8fwr",
    "outputId": "19bdee8c-f90d-45ea-810b-b7fd8dd671bf"
   },
   "outputs": [
    {
     "name": "stdout",
     "output_type": "stream",
     "text": [
      "[[ 1  0  0  0]\n",
      " [ 0  4  0  0]\n",
      " [ 0  0  9  0]\n",
      " [ 0  0  0 16]]\n",
      "+++++++++++++++++++++++\n",
      "[[ 1  0  0  0]\n",
      " [ 0  4  0  0]\n",
      " [ 0  0  9  0]\n",
      " [ 0  0  0 16]]\n"
     ]
    }
   ],
   "source": [
    "# Matrix multiplication\n",
    "c = np.diag([1, 2, 3, 4])\n",
    "print(c * c)\n",
    "print(\"+++++++++++++++++++++++\")\n",
    "print(c.dot(c))"
   ]
  },
  {
   "cell_type": "markdown",
   "metadata": {
    "id": "5Xt5y-ti9uwb"
   },
   "source": [
    "**Comparisions**"
   ]
  },
  {
   "cell_type": "code",
   "execution_count": 59,
   "metadata": {
    "colab": {
     "base_uri": "https://localhost:8080/",
     "height": 35
    },
    "id": "AX9FWYo385AT",
    "outputId": "a0771258-2b82-40be-fce4-b5b453971794"
   },
   "outputs": [
    {
     "data": {
      "text/plain": [
       "array([False,  True, False,  True])"
      ]
     },
     "execution_count": 59,
     "metadata": {
      "tags": []
     },
     "output_type": "execute_result"
    }
   ],
   "source": [
    "a = np.array([1, 2, 3, 4])\n",
    "b = np.array([5, 2, 2, 4])\n",
    "a == b"
   ]
  },
  {
   "cell_type": "code",
   "execution_count": 60,
   "metadata": {
    "colab": {
     "base_uri": "https://localhost:8080/",
     "height": 35
    },
    "id": "7x5nBRRh96n6",
    "outputId": "3c58f57c-45b9-41be-8893-0c225cc8e135"
   },
   "outputs": [
    {
     "data": {
      "text/plain": [
       "array([False, False,  True, False])"
      ]
     },
     "execution_count": 60,
     "metadata": {
      "tags": []
     },
     "output_type": "execute_result"
    }
   ],
   "source": [
    "a > b"
   ]
  },
  {
   "cell_type": "code",
   "execution_count": 61,
   "metadata": {
    "colab": {
     "base_uri": "https://localhost:8080/",
     "height": 35
    },
    "id": "CmhHOOKO98-b",
    "outputId": "61dd379d-7488-457d-ffc4-e47ff08c189b"
   },
   "outputs": [
    {
     "data": {
      "text/plain": [
       "False"
      ]
     },
     "execution_count": 61,
     "metadata": {
      "tags": []
     },
     "output_type": "execute_result"
    }
   ],
   "source": [
    "# Array-wise comparisions\n",
    "a = np.array([1, 2, 3, 4])\n",
    "b = np.array([5, 2, 2, 4])\n",
    "c = np.array([1, 2, 3, 4])\n",
    "np.array_equal(a, b)"
   ]
  },
  {
   "cell_type": "code",
   "execution_count": 62,
   "metadata": {
    "colab": {
     "base_uri": "https://localhost:8080/",
     "height": 35
    },
    "id": "3pskSB0D-PlF",
    "outputId": "db4b7691-8295-4536-b46a-fe8a8d8e899d"
   },
   "outputs": [
    {
     "data": {
      "text/plain": [
       "True"
      ]
     },
     "execution_count": 62,
     "metadata": {
      "tags": []
     },
     "output_type": "execute_result"
    }
   ],
   "source": [
    " np.array_equal(a, c)"
   ]
  },
  {
   "cell_type": "markdown",
   "metadata": {
    "id": "DEy8yY_Y-WjL"
   },
   "source": [
    "**Logical Operations**"
   ]
  },
  {
   "cell_type": "code",
   "execution_count": 63,
   "metadata": {
    "colab": {
     "base_uri": "https://localhost:8080/",
     "height": 35
    },
    "id": "4obdQGpS-Tqz",
    "outputId": "08c19251-c280-4edc-add1-2b9e1bf64935"
   },
   "outputs": [
    {
     "data": {
      "text/plain": [
       "array([ True,  True,  True, False])"
      ]
     },
     "execution_count": 63,
     "metadata": {
      "tags": []
     },
     "output_type": "execute_result"
    }
   ],
   "source": [
    "a = np.array([1, 1, 0, 0], dtype=bool)\n",
    "b = np.array([1, 0, 1, 0], dtype=bool)\n",
    "np.logical_or(a, b)"
   ]
  },
  {
   "cell_type": "code",
   "execution_count": 64,
   "metadata": {
    "colab": {
     "base_uri": "https://localhost:8080/",
     "height": 35
    },
    "id": "viLfBMah-u77",
    "outputId": "6a6c35ad-91b1-43dd-caf3-38496fba7d45"
   },
   "outputs": [
    {
     "data": {
      "text/plain": [
       "array([ True, False, False, False])"
      ]
     },
     "execution_count": 64,
     "metadata": {
      "tags": []
     },
     "output_type": "execute_result"
    }
   ],
   "source": [
    "np.logical_and(a, b)"
   ]
  },
  {
   "cell_type": "markdown",
   "metadata": {
    "id": "Aj0FIyAG-y1p"
   },
   "source": [
    "**Transcendental functions:**"
   ]
  },
  {
   "cell_type": "code",
   "execution_count": 65,
   "metadata": {
    "colab": {
     "base_uri": "https://localhost:8080/",
     "height": 35
    },
    "id": "xQuuE2T6-w-t",
    "outputId": "d99bc0e7-a976-4efb-cc3c-8405ef63c98e"
   },
   "outputs": [
    {
     "data": {
      "text/plain": [
       "array([ 0.        ,  0.84147098,  0.90929743,  0.14112001, -0.7568025 ])"
      ]
     },
     "execution_count": 65,
     "metadata": {
      "tags": []
     },
     "output_type": "execute_result"
    }
   ],
   "source": [
    "a = np.arange(5)\n",
    "np.sin(a)"
   ]
  },
  {
   "cell_type": "code",
   "execution_count": 66,
   "metadata": {
    "colab": {
     "base_uri": "https://localhost:8080/",
     "height": 91
    },
    "id": "4DSemUaq-5aD",
    "outputId": "a4173240-a042-4775-cb8f-ca4ef542a89d"
   },
   "outputs": [
    {
     "name": "stderr",
     "output_type": "stream",
     "text": [
      "/usr/local/lib/python3.6/dist-packages/ipykernel_launcher.py:1: RuntimeWarning: divide by zero encountered in log\n",
      "  \"\"\"Entry point for launching an IPython kernel.\n"
     ]
    },
    {
     "data": {
      "text/plain": [
       "array([      -inf, 0.        , 0.69314718, 1.09861229, 1.38629436])"
      ]
     },
     "execution_count": 66,
     "metadata": {
      "tags": []
     },
     "output_type": "execute_result"
    }
   ],
   "source": [
    "np.log(a)"
   ]
  },
  {
   "cell_type": "code",
   "execution_count": 67,
   "metadata": {
    "colab": {
     "base_uri": "https://localhost:8080/",
     "height": 35
    },
    "id": "DbhY6f1X-8Ue",
    "outputId": "d815ce89-9737-4c10-def3-c2523f34e337"
   },
   "outputs": [
    {
     "data": {
      "text/plain": [
       "array([ 1.        ,  2.71828183,  7.3890561 , 20.08553692, 54.59815003])"
      ]
     },
     "execution_count": 67,
     "metadata": {
      "tags": []
     },
     "output_type": "execute_result"
    }
   ],
   "source": [
    "np.exp(a) #evaluates e^x for each element in a given input"
   ]
  },
  {
   "cell_type": "markdown",
   "metadata": {
    "id": "OQGFIKvz_GuV"
   },
   "source": [
    "**Shape Mismatch**"
   ]
  },
  {
   "cell_type": "code",
   "execution_count": 68,
   "metadata": {
    "colab": {
     "base_uri": "https://localhost:8080/",
     "height": 190
    },
    "id": "7GledZ0P--CF",
    "outputId": "5bf7d7de-3886-402e-ae57-f0bb586cde0e"
   },
   "outputs": [
    {
     "ename": "ValueError",
     "evalue": "ignored",
     "output_type": "error",
     "traceback": [
      "\u001b[0;31m---------------------------------------------------------------------------\u001b[0m",
      "\u001b[0;31mValueError\u001b[0m                                Traceback (most recent call last)",
      "\u001b[0;32m<ipython-input-68-7ded08b2ed74>\u001b[0m in \u001b[0;36m<module>\u001b[0;34m()\u001b[0m\n\u001b[1;32m      1\u001b[0m \u001b[0ma\u001b[0m \u001b[0;34m=\u001b[0m \u001b[0mnp\u001b[0m\u001b[0;34m.\u001b[0m\u001b[0marange\u001b[0m\u001b[0;34m(\u001b[0m\u001b[0;36m4\u001b[0m\u001b[0;34m)\u001b[0m\u001b[0;34m\u001b[0m\u001b[0;34m\u001b[0m\u001b[0m\n\u001b[0;32m----> 2\u001b[0;31m \u001b[0ma\u001b[0m \u001b[0;34m+\u001b[0m \u001b[0mnp\u001b[0m\u001b[0;34m.\u001b[0m\u001b[0marray\u001b[0m\u001b[0;34m(\u001b[0m\u001b[0;34m[\u001b[0m\u001b[0;36m1\u001b[0m\u001b[0;34m,\u001b[0m \u001b[0;36m2\u001b[0m\u001b[0;34m]\u001b[0m\u001b[0;34m)\u001b[0m\u001b[0;34m\u001b[0m\u001b[0;34m\u001b[0m\u001b[0m\n\u001b[0m",
      "\u001b[0;31mValueError\u001b[0m: operands could not be broadcast together with shapes (4,) (2,) "
     ]
    }
   ],
   "source": [
    "a = np.arange(4)\n",
    "a + np.array([1, 2])"
   ]
  },
  {
   "cell_type": "markdown",
   "metadata": {
    "id": "ix4BJY-x_rab"
   },
   "source": [
    "#### **Basic Reductions**"
   ]
  },
  {
   "cell_type": "markdown",
   "metadata": {
    "id": "3D32iWey_vmg"
   },
   "source": [
    "**Computing Sums**"
   ]
  },
  {
   "cell_type": "code",
   "execution_count": 69,
   "metadata": {
    "colab": {
     "base_uri": "https://localhost:8080/",
     "height": 35
    },
    "id": "I_AnFRgi_X8i",
    "outputId": "372bbcf2-2ee7-4cb0-eccd-f72186097ccb"
   },
   "outputs": [
    {
     "data": {
      "text/plain": [
       "10"
      ]
     },
     "execution_count": 69,
     "metadata": {
      "tags": []
     },
     "output_type": "execute_result"
    }
   ],
   "source": [
    "x = np.array([1, 2, 3, 4])\n",
    "np.sum(x)"
   ]
  },
  {
   "cell_type": "code",
   "execution_count": 70,
   "metadata": {
    "colab": {
     "base_uri": "https://localhost:8080/",
     "height": 53
    },
    "id": "Vd_yqsOZ_4PD",
    "outputId": "176a7ae1-6478-4dcc-ac11-c03ac1c1cd69"
   },
   "outputs": [
    {
     "data": {
      "text/plain": [
       "array([[1, 1],\n",
       "       [2, 2]])"
      ]
     },
     "execution_count": 70,
     "metadata": {
      "tags": []
     },
     "output_type": "execute_result"
    }
   ],
   "source": [
    "# Sum by rows and by columns\n",
    "x = np.array([[1, 1], [2, 2]])\n",
    "x"
   ]
  },
  {
   "cell_type": "code",
   "execution_count": 71,
   "metadata": {
    "colab": {
     "base_uri": "https://localhost:8080/",
     "height": 35
    },
    "id": "XoOIbcMtAE73",
    "outputId": "6194f688-513b-4019-89b7-66542d720461"
   },
   "outputs": [
    {
     "data": {
      "text/plain": [
       "array([3, 3])"
      ]
     },
     "execution_count": 71,
     "metadata": {
      "tags": []
     },
     "output_type": "execute_result"
    }
   ],
   "source": [
    "x.sum(axis=0) # column-wise sum"
   ]
  },
  {
   "cell_type": "code",
   "execution_count": 72,
   "metadata": {
    "colab": {
     "base_uri": "https://localhost:8080/",
     "height": 35
    },
    "id": "k8XKSHXFAMxj",
    "outputId": "ddf8e3bc-331f-40a7-d40f-912b657cea1d"
   },
   "outputs": [
    {
     "data": {
      "text/plain": [
       "array([2, 4])"
      ]
     },
     "execution_count": 72,
     "metadata": {
      "tags": []
     },
     "output_type": "execute_result"
    }
   ],
   "source": [
    "x.sum(axis=1) # row-wise sum"
   ]
  },
  {
   "cell_type": "markdown",
   "metadata": {
    "id": "tKcHRgfgAdE_"
   },
   "source": [
    "**Other Reductions**"
   ]
  },
  {
   "cell_type": "code",
   "execution_count": 73,
   "metadata": {
    "colab": {
     "base_uri": "https://localhost:8080/",
     "height": 35
    },
    "id": "mJrFPG6KAY07",
    "outputId": "07820823-1669-400f-89da-1a4ecc9281eb"
   },
   "outputs": [
    {
     "data": {
      "text/plain": [
       "1"
      ]
     },
     "execution_count": 73,
     "metadata": {
      "tags": []
     },
     "output_type": "execute_result"
    }
   ],
   "source": [
    "x = np.array([1, 3, 2])\n",
    "x.min()"
   ]
  },
  {
   "cell_type": "code",
   "execution_count": 74,
   "metadata": {
    "colab": {
     "base_uri": "https://localhost:8080/",
     "height": 35
    },
    "id": "xc0IGfByAlnA",
    "outputId": "ae155628-117f-4757-c02a-699cc2877e59"
   },
   "outputs": [
    {
     "data": {
      "text/plain": [
       "3"
      ]
     },
     "execution_count": 74,
     "metadata": {
      "tags": []
     },
     "output_type": "execute_result"
    }
   ],
   "source": [
    "x.max()"
   ]
  },
  {
   "cell_type": "code",
   "execution_count": 75,
   "metadata": {
    "colab": {
     "base_uri": "https://localhost:8080/",
     "height": 35
    },
    "id": "WsA9Q_NLArFJ",
    "outputId": "68e988b8-33ff-45a3-d497-a52ba3117f7c"
   },
   "outputs": [
    {
     "data": {
      "text/plain": [
       "0"
      ]
     },
     "execution_count": 75,
     "metadata": {
      "tags": []
     },
     "output_type": "execute_result"
    }
   ],
   "source": [
    "x.argmin() # index of the minimum element"
   ]
  },
  {
   "cell_type": "code",
   "execution_count": 76,
   "metadata": {
    "colab": {
     "base_uri": "https://localhost:8080/",
     "height": 35
    },
    "id": "pwzAgsocAtGy",
    "outputId": "1eff1f62-7336-4a68-f3a5-df098c54ee3b"
   },
   "outputs": [
    {
     "data": {
      "text/plain": [
       "1"
      ]
     },
     "execution_count": 76,
     "metadata": {
      "tags": []
     },
     "output_type": "execute_result"
    }
   ],
   "source": [
    "x.argmax() # index of the maximum element"
   ]
  },
  {
   "cell_type": "markdown",
   "metadata": {
    "id": "shkPxAo2A7yJ"
   },
   "source": [
    "**Logical Operations**"
   ]
  },
  {
   "cell_type": "code",
   "execution_count": 77,
   "metadata": {
    "colab": {
     "base_uri": "https://localhost:8080/",
     "height": 35
    },
    "id": "7WE1fC54AvFB",
    "outputId": "b01c32d7-a7db-4910-b65b-7fec14580eb5"
   },
   "outputs": [
    {
     "data": {
      "text/plain": [
       "False"
      ]
     },
     "execution_count": 77,
     "metadata": {
      "tags": []
     },
     "output_type": "execute_result"
    }
   ],
   "source": [
    "np.all([True, True, False])"
   ]
  },
  {
   "cell_type": "code",
   "execution_count": 78,
   "metadata": {
    "colab": {
     "base_uri": "https://localhost:8080/",
     "height": 35
    },
    "id": "urHSizAPA-jg",
    "outputId": "72106d9b-843f-4991-f9c9-fc8ba606f9ca"
   },
   "outputs": [
    {
     "data": {
      "text/plain": [
       "True"
      ]
     },
     "execution_count": 78,
     "metadata": {
      "tags": []
     },
     "output_type": "execute_result"
    }
   ],
   "source": [
    "np.any([True, False, False])"
   ]
  },
  {
   "cell_type": "code",
   "execution_count": 79,
   "metadata": {
    "colab": {
     "base_uri": "https://localhost:8080/",
     "height": 35
    },
    "id": "uTtHZxjkBAHz",
    "outputId": "a0131465-c4d2-4ff9-cfec-aa4169699c1e"
   },
   "outputs": [
    {
     "data": {
      "text/plain": [
       "False"
      ]
     },
     "execution_count": 79,
     "metadata": {
      "tags": []
     },
     "output_type": "execute_result"
    }
   ],
   "source": [
    "#Note: can be used for array comparisions\n",
    "a = np.zeros((50, 50))\n",
    "np.any(a != 0)"
   ]
  },
  {
   "cell_type": "code",
   "execution_count": 80,
   "metadata": {
    "colab": {
     "base_uri": "https://localhost:8080/",
     "height": 35
    },
    "id": "71ObobEQBD7I",
    "outputId": "f4ccc1d8-7b55-4980-884f-d2d72648f068"
   },
   "outputs": [
    {
     "data": {
      "text/plain": [
       "True"
      ]
     },
     "execution_count": 80,
     "metadata": {
      "tags": []
     },
     "output_type": "execute_result"
    }
   ],
   "source": [
    "np.all(a == a)"
   ]
  },
  {
   "cell_type": "code",
   "execution_count": 81,
   "metadata": {
    "colab": {
     "base_uri": "https://localhost:8080/",
     "height": 35
    },
    "id": "ESh52HSPBFjj",
    "outputId": "5117d70b-f3c1-4f8f-cc98-f3fe3b2b0cd8"
   },
   "outputs": [
    {
     "data": {
      "text/plain": [
       "True"
      ]
     },
     "execution_count": 81,
     "metadata": {
      "tags": []
     },
     "output_type": "execute_result"
    }
   ],
   "source": [
    "a = np.array([1, 2, 3, 2])\n",
    "b = np.array([2, 2, 3, 2])\n",
    "c = np.array([6, 4, 4, 5])\n",
    "((a <= b) & (b <= c)).all()"
   ]
  },
  {
   "cell_type": "markdown",
   "metadata": {
    "id": "Eaq1X_lTBNpQ"
   },
   "source": [
    "**Statistics**"
   ]
  },
  {
   "cell_type": "code",
   "execution_count": 82,
   "metadata": {
    "colab": {
     "base_uri": "https://localhost:8080/",
     "height": 35
    },
    "id": "FafQCERYBLMl",
    "outputId": "1f7e5d25-c662-4ea4-f0c2-20d9c00ff84d"
   },
   "outputs": [
    {
     "data": {
      "text/plain": [
       "1.75"
      ]
     },
     "execution_count": 82,
     "metadata": {
      "tags": []
     },
     "output_type": "execute_result"
    }
   ],
   "source": [
    "x = np.array([1, 2, 3, 1])\n",
    "y = np.array([[1, 2, 3], [5, 6, 1]])\n",
    "x.mean()"
   ]
  },
  {
   "cell_type": "code",
   "execution_count": 83,
   "metadata": {
    "colab": {
     "base_uri": "https://localhost:8080/",
     "height": 35
    },
    "id": "bDLvYb9gBRP8",
    "outputId": "b92a6758-22c1-465c-a2fa-77a48790c579"
   },
   "outputs": [
    {
     "data": {
      "text/plain": [
       "1.5"
      ]
     },
     "execution_count": 83,
     "metadata": {
      "tags": []
     },
     "output_type": "execute_result"
    }
   ],
   "source": [
    "np.median(x)"
   ]
  },
  {
   "cell_type": "code",
   "execution_count": 84,
   "metadata": {
    "colab": {
     "base_uri": "https://localhost:8080/",
     "height": 35
    },
    "id": "1Q_3f86bBSho",
    "outputId": "8bfd5051-a7ef-4044-eec1-04ae4f94f8e3"
   },
   "outputs": [
    {
     "data": {
      "text/plain": [
       "1.5"
      ]
     },
     "execution_count": 84,
     "metadata": {
      "tags": []
     },
     "output_type": "execute_result"
    }
   ],
   "source": [
    "np.median(x)"
   ]
  },
  {
   "cell_type": "code",
   "execution_count": 85,
   "metadata": {
    "colab": {
     "base_uri": "https://localhost:8080/",
     "height": 35
    },
    "id": "qxZyU0hKBh_6",
    "outputId": "eee78320-7d40-4c87-b6ad-ddf2fe975cef"
   },
   "outputs": [
    {
     "data": {
      "text/plain": [
       "array([2., 5.])"
      ]
     },
     "execution_count": 85,
     "metadata": {
      "tags": []
     },
     "output_type": "execute_result"
    }
   ],
   "source": [
    "np.median(y, axis=-1) # last axis"
   ]
  },
  {
   "cell_type": "code",
   "execution_count": 86,
   "metadata": {
    "colab": {
     "base_uri": "https://localhost:8080/",
     "height": 35
    },
    "id": "VkEh0sltBnoV",
    "outputId": "991ce732-5f5f-4f23-9047-09fc3b778d18"
   },
   "outputs": [
    {
     "data": {
      "text/plain": [
       "0.82915619758885"
      ]
     },
     "execution_count": 86,
     "metadata": {
      "tags": []
     },
     "output_type": "execute_result"
    }
   ],
   "source": [
    "x.std()          # full population standard dev."
   ]
  },
  {
   "cell_type": "markdown",
   "metadata": {
    "id": "ervX5ejVB7xq"
   },
   "source": [
    "Example:\n",
    "Data in populations.txt describes the populations of hares and lynxes (and carrots) in northern Canada during 20 years.\n",
    "\n"
   ]
  },
  {
   "cell_type": "code",
   "execution_count": 87,
   "metadata": {
    "id": "9MEcrfR6B5Rl"
   },
   "outputs": [],
   "source": [
    "#load data into numpy array object\n",
    "data = np.loadtxt('populations.txt')"
   ]
  },
  {
   "cell_type": "code",
   "execution_count": 88,
   "metadata": {
    "colab": {
     "base_uri": "https://localhost:8080/",
     "height": 395
    },
    "id": "n-lIScIZCDvf",
    "outputId": "e27a6560-b68c-467f-9cdf-d7cff5418dc5"
   },
   "outputs": [
    {
     "data": {
      "text/plain": [
       "array([[ 1900., 30000.,  4000., 48300.],\n",
       "       [ 1901., 47200.,  6100., 48200.],\n",
       "       [ 1902., 70200.,  9800., 41500.],\n",
       "       [ 1903., 77400., 35200., 38200.],\n",
       "       [ 1904., 36300., 59400., 40600.],\n",
       "       [ 1905., 20600., 41700., 39800.],\n",
       "       [ 1906., 18100., 19000., 38600.],\n",
       "       [ 1907., 21400., 13000., 42300.],\n",
       "       [ 1908., 22000.,  8300., 44500.],\n",
       "       [ 1909., 25400.,  9100., 42100.],\n",
       "       [ 1910., 27100.,  7400., 46000.],\n",
       "       [ 1911., 40300.,  8000., 46800.],\n",
       "       [ 1912., 57000., 12300., 43800.],\n",
       "       [ 1913., 76600., 19500., 40900.],\n",
       "       [ 1914., 52300., 45700., 39400.],\n",
       "       [ 1915., 19500., 51100., 39000.],\n",
       "       [ 1916., 11200., 29700., 36700.],\n",
       "       [ 1917.,  7600., 15800., 41800.],\n",
       "       [ 1918., 14600.,  9700., 43300.],\n",
       "       [ 1919., 16200., 10100., 41300.],\n",
       "       [ 1920., 24700.,  8600., 47300.]])"
      ]
     },
     "execution_count": 88,
     "metadata": {
      "tags": []
     },
     "output_type": "execute_result"
    }
   ],
   "source": [
    "data"
   ]
  },
  {
   "cell_type": "code",
   "execution_count": 89,
   "metadata": {
    "colab": {
     "base_uri": "https://localhost:8080/",
     "height": 53
    },
    "id": "8ARN6Ts9DBwv",
    "outputId": "fb524b28-87ce-4243-ea79-17f29466b097"
   },
   "outputs": [
    {
     "name": "stdout",
     "output_type": "stream",
     "text": [
      "[1900. 1901. 1902. 1903. 1904. 1905. 1906. 1907. 1908. 1909. 1910. 1911.\n",
      " 1912. 1913. 1914. 1915. 1916. 1917. 1918. 1919. 1920.]\n"
     ]
    }
   ],
   "source": [
    "year, hares, lynxes, carrots = data.T # columns to variables\n",
    "print(year)"
   ]
  },
  {
   "cell_type": "code",
   "execution_count": 90,
   "metadata": {
    "colab": {
     "base_uri": "https://localhost:8080/",
     "height": 395
    },
    "id": "iDBBiyxIDLUh",
    "outputId": "457f741c-9d03-41a9-cff3-9de8143de0a1"
   },
   "outputs": [
    {
     "data": {
      "text/plain": [
       "array([[30000.,  4000., 48300.],\n",
       "       [47200.,  6100., 48200.],\n",
       "       [70200.,  9800., 41500.],\n",
       "       [77400., 35200., 38200.],\n",
       "       [36300., 59400., 40600.],\n",
       "       [20600., 41700., 39800.],\n",
       "       [18100., 19000., 38600.],\n",
       "       [21400., 13000., 42300.],\n",
       "       [22000.,  8300., 44500.],\n",
       "       [25400.,  9100., 42100.],\n",
       "       [27100.,  7400., 46000.],\n",
       "       [40300.,  8000., 46800.],\n",
       "       [57000., 12300., 43800.],\n",
       "       [76600., 19500., 40900.],\n",
       "       [52300., 45700., 39400.],\n",
       "       [19500., 51100., 39000.],\n",
       "       [11200., 29700., 36700.],\n",
       "       [ 7600., 15800., 41800.],\n",
       "       [14600.,  9700., 43300.],\n",
       "       [16200., 10100., 41300.],\n",
       "       [24700.,  8600., 47300.]])"
      ]
     },
     "execution_count": 90,
     "metadata": {
      "tags": []
     },
     "output_type": "execute_result"
    }
   ],
   "source": [
    "#The mean population over time\n",
    "populations = data[:, 1:]\n",
    "populations"
   ]
  },
  {
   "cell_type": "code",
   "execution_count": 91,
   "metadata": {
    "colab": {
     "base_uri": "https://localhost:8080/",
     "height": 35
    },
    "id": "0y2V0MLZDaCB",
    "outputId": "605024ed-3cae-4f74-bfb8-2a623303b739"
   },
   "outputs": [
    {
     "data": {
      "text/plain": [
       "array([20897.90645809, 16254.59153691,  3322.50622558])"
      ]
     },
     "execution_count": 91,
     "metadata": {
      "tags": []
     },
     "output_type": "execute_result"
    }
   ],
   "source": [
    "# sample standard deviations\n",
    "populations.std(axis=0)"
   ]
  },
  {
   "cell_type": "code",
   "execution_count": 92,
   "metadata": {
    "colab": {
     "base_uri": "https://localhost:8080/",
     "height": 35
    },
    "id": "JwcPTiRWDyOx",
    "outputId": "83ec8e47-4768-410e-915f-49a41967b611"
   },
   "outputs": [
    {
     "data": {
      "text/plain": [
       "array([2, 2, 0, 0, 1, 1, 2, 2, 2, 2, 2, 2, 0, 0, 0, 1, 2, 2, 2, 2, 2])"
      ]
     },
     "execution_count": 92,
     "metadata": {
      "tags": []
     },
     "output_type": "execute_result"
    }
   ],
   "source": [
    "# which species has the highest population each year?\n",
    "np.argmax(populations, axis=1)"
   ]
  },
  {
   "cell_type": "markdown",
   "metadata": {
    "id": "DdithodvESyR"
   },
   "source": [
    "#### **Broadcasting**"
   ]
  },
  {
   "cell_type": "markdown",
   "metadata": {
    "id": "wSRFmfwsEXEE"
   },
   "source": [
    "Basic operations on numpy arrays (addition, etc.) are elementwise\n",
    "\n",
    "This works on arrays of the same size. Nevertheless, It’s also possible to do operations on arrays of different sizes if NumPy can transform these arrays so that they all have the same size: this conversion is called broadcasting.\n",
    "\n",
    "The image below gives an example of broadcasting:"
   ]
  },
  {
   "cell_type": "markdown",
   "metadata": {
    "id": "5JNLp4IHEn7F"
   },
   "source": [
    "![broadcasting](https://i.stack.imgur.com/JcKv1.png)"
   ]
  },
  {
   "cell_type": "code",
   "execution_count": 93,
   "metadata": {
    "colab": {
     "base_uri": "https://localhost:8080/",
     "height": 161
    },
    "id": "Wrk0fHRDD17t",
    "outputId": "d16ee531-27b7-4da2-8d76-1a99f95e848d"
   },
   "outputs": [
    {
     "name": "stdout",
     "output_type": "stream",
     "text": [
      "[[ 0 10 20 30]\n",
      " [ 0 10 20 30]\n",
      " [ 0 10 20 30]]\n",
      "*************\n",
      "[[ 0  0  0]\n",
      " [10 10 10]\n",
      " [20 20 20]\n",
      " [30 30 30]]\n"
     ]
    }
   ],
   "source": [
    "a = np.tile(np.arange(0, 40, 10), (3,1))\n",
    "print(a)\n",
    "\n",
    "print(\"*************\")\n",
    "a = a.T\n",
    "print(a)"
   ]
  },
  {
   "cell_type": "code",
   "execution_count": 94,
   "metadata": {
    "colab": {
     "base_uri": "https://localhost:8080/",
     "height": 35
    },
    "id": "NP5vom1DFQ9a",
    "outputId": "77fc25d3-4119-4777-c3f3-65355a2f5482"
   },
   "outputs": [
    {
     "data": {
      "text/plain": [
       "array([0, 1, 2])"
      ]
     },
     "execution_count": 94,
     "metadata": {
      "tags": []
     },
     "output_type": "execute_result"
    }
   ],
   "source": [
    "b = np.array([0, 1, 2])\n",
    "b"
   ]
  },
  {
   "cell_type": "code",
   "execution_count": 95,
   "metadata": {
    "colab": {
     "base_uri": "https://localhost:8080/",
     "height": 89
    },
    "id": "xgmOBF_bF0nA",
    "outputId": "fbd7ecbd-511c-4560-8267-9bbafd123b8c"
   },
   "outputs": [
    {
     "data": {
      "text/plain": [
       "array([[ 0,  1,  2],\n",
       "       [10, 11, 12],\n",
       "       [20, 21, 22],\n",
       "       [30, 31, 32]])"
      ]
     },
     "execution_count": 95,
     "metadata": {
      "tags": []
     },
     "output_type": "execute_result"
    }
   ],
   "source": [
    "a + b"
   ]
  },
  {
   "cell_type": "code",
   "execution_count": 96,
   "metadata": {
    "colab": {
     "base_uri": "https://localhost:8080/",
     "height": 35
    },
    "id": "2OVw5CNHF2sX",
    "outputId": "a77c4fc1-39f2-4805-f4e6-0e0ec135f4ec"
   },
   "outputs": [
    {
     "data": {
      "text/plain": [
       "(4,)"
      ]
     },
     "execution_count": 96,
     "metadata": {
      "tags": []
     },
     "output_type": "execute_result"
    }
   ],
   "source": [
    "a = np.arange(0, 40, 10)\n",
    "a.shape"
   ]
  },
  {
   "cell_type": "code",
   "execution_count": 97,
   "metadata": {
    "colab": {
     "base_uri": "https://localhost:8080/",
     "height": 35
    },
    "id": "OgkzL1i9swgl",
    "outputId": "2fe7a76a-ff8f-4113-bb64-0c0653943fe0"
   },
   "outputs": [
    {
     "data": {
      "text/plain": [
       "(4, 1)"
      ]
     },
     "execution_count": 97,
     "metadata": {
      "tags": []
     },
     "output_type": "execute_result"
    }
   ],
   "source": [
    "a = a[:, np.newaxis]  # adds a new axis -> 2D array\n",
    "a.shape"
   ]
  },
  {
   "cell_type": "code",
   "execution_count": 98,
   "metadata": {
    "colab": {
     "base_uri": "https://localhost:8080/",
     "height": 89
    },
    "id": "57gMgyjMF6WP",
    "outputId": "7861ab9f-eb58-42e6-e6eb-38103d28ac25"
   },
   "outputs": [
    {
     "data": {
      "text/plain": [
       "array([[ 0],\n",
       "       [10],\n",
       "       [20],\n",
       "       [30]])"
      ]
     },
     "execution_count": 98,
     "metadata": {
      "tags": []
     },
     "output_type": "execute_result"
    }
   ],
   "source": [
    "a"
   ]
  },
  {
   "cell_type": "code",
   "execution_count": 99,
   "metadata": {
    "colab": {
     "base_uri": "https://localhost:8080/",
     "height": 89
    },
    "id": "dSAlSIDZGF2F",
    "outputId": "052320db-6bec-41ee-a7ea-e859e8e891e2"
   },
   "outputs": [
    {
     "data": {
      "text/plain": [
       "array([[ 0,  1,  2],\n",
       "       [10, 11, 12],\n",
       "       [20, 21, 22],\n",
       "       [30, 31, 32]])"
      ]
     },
     "execution_count": 99,
     "metadata": {
      "tags": []
     },
     "output_type": "execute_result"
    }
   ],
   "source": [
    "a + b"
   ]
  },
  {
   "cell_type": "markdown",
   "metadata": {
    "id": "OVisCIDDGbqo"
   },
   "source": [
    "#### **Array Shape Manipulation**"
   ]
  },
  {
   "cell_type": "markdown",
   "metadata": {
    "id": "1AoGRi-VGfN0"
   },
   "source": [
    "**Flattening**"
   ]
  },
  {
   "cell_type": "code",
   "execution_count": 100,
   "metadata": {
    "colab": {
     "base_uri": "https://localhost:8080/",
     "height": 35
    },
    "id": "buwIcpoOGHGK",
    "outputId": "8f40acb3-53f3-41d8-d8b8-24538a591d9b"
   },
   "outputs": [
    {
     "data": {
      "text/plain": [
       "array([1, 2, 3, 4, 5, 6])"
      ]
     },
     "execution_count": 100,
     "metadata": {
      "tags": []
     },
     "output_type": "execute_result"
    }
   ],
   "source": [
    "a = np.array([[1, 2, 3], [4, 5, 6]])\n",
    "a.ravel() #Return a contiguous flattened array. A 1-D array, containing the elements of the input, is returned. A copy is made only if needed."
   ]
  },
  {
   "cell_type": "code",
   "execution_count": 101,
   "metadata": {
    "colab": {
     "base_uri": "https://localhost:8080/",
     "height": 71
    },
    "id": "htNxp7z6GkOR",
    "outputId": "64f4eaa9-8514-4fd9-83a4-39b47061bd6c"
   },
   "outputs": [
    {
     "data": {
      "text/plain": [
       "array([[1, 4],\n",
       "       [2, 5],\n",
       "       [3, 6]])"
      ]
     },
     "execution_count": 101,
     "metadata": {
      "tags": []
     },
     "output_type": "execute_result"
    }
   ],
   "source": [
    "a.T #Transpose"
   ]
  },
  {
   "cell_type": "code",
   "execution_count": 102,
   "metadata": {
    "colab": {
     "base_uri": "https://localhost:8080/",
     "height": 35
    },
    "id": "6_X6rd_2GmyD",
    "outputId": "9e08d5c6-78b6-4ba2-865c-50f43cf8d713"
   },
   "outputs": [
    {
     "data": {
      "text/plain": [
       "array([1, 4, 2, 5, 3, 6])"
      ]
     },
     "execution_count": 102,
     "metadata": {
      "tags": []
     },
     "output_type": "execute_result"
    }
   ],
   "source": [
    "a.T.ravel()"
   ]
  },
  {
   "cell_type": "markdown",
   "metadata": {
    "id": "9YtUuelKGqV3"
   },
   "source": [
    "**Reshaping**"
   ]
  },
  {
   "cell_type": "markdown",
   "metadata": {
    "id": "l9TgYm6pGsr6"
   },
   "source": [
    "The inverse operation to flattening:"
   ]
  },
  {
   "cell_type": "code",
   "execution_count": 103,
   "metadata": {
    "colab": {
     "base_uri": "https://localhost:8080/",
     "height": 71
    },
    "id": "GkyICyS3GoxC",
    "outputId": "9e5abad5-472c-485e-a5c2-6f649df073b0"
   },
   "outputs": [
    {
     "name": "stdout",
     "output_type": "stream",
     "text": [
      "(2, 3)\n",
      "[[1 2 3]\n",
      " [4 5 6]]\n"
     ]
    }
   ],
   "source": [
    "print(a.shape)\n",
    "print(a)"
   ]
  },
  {
   "cell_type": "code",
   "execution_count": 104,
   "metadata": {
    "colab": {
     "base_uri": "https://localhost:8080/",
     "height": 35
    },
    "id": "LvKduG4KGuvz",
    "outputId": "88cbe56e-ec96-4a42-aa6f-8d62bd71954f"
   },
   "outputs": [
    {
     "name": "stdout",
     "output_type": "stream",
     "text": [
      "[1 2 3 4 5 6]\n"
     ]
    }
   ],
   "source": [
    "b = a.ravel()\n",
    "print(b)"
   ]
  },
  {
   "cell_type": "code",
   "execution_count": 105,
   "metadata": {
    "colab": {
     "base_uri": "https://localhost:8080/",
     "height": 53
    },
    "id": "J6thk5hKGx0X",
    "outputId": "82495593-72cb-4bb5-9e74-b24108e21c0b"
   },
   "outputs": [
    {
     "data": {
      "text/plain": [
       "array([[1, 2, 3],\n",
       "       [4, 5, 6]])"
      ]
     },
     "execution_count": 105,
     "metadata": {
      "tags": []
     },
     "output_type": "execute_result"
    }
   ],
   "source": [
    "b = b.reshape((2, 3)) # to unflattern\n",
    "b"
   ]
  },
  {
   "cell_type": "code",
   "execution_count": 106,
   "metadata": {
    "colab": {
     "base_uri": "https://localhost:8080/",
     "height": 53
    },
    "id": "xSMCDSeiHI4n",
    "outputId": "2c952b1b-774e-4663-b197-98aeaa2b57cd"
   },
   "outputs": [
    {
     "data": {
      "text/plain": [
       "array([[100,   2,   3],\n",
       "       [  4,   5,   6]])"
      ]
     },
     "execution_count": 106,
     "metadata": {
      "tags": []
     },
     "output_type": "execute_result"
    }
   ],
   "source": [
    "b[0, 0] = 100\n",
    "a"
   ]
  },
  {
   "cell_type": "markdown",
   "metadata": {
    "id": "SgBblkd4HgaN"
   },
   "source": [
    "**Note and Beware: reshape may also return a copy!:**"
   ]
  },
  {
   "cell_type": "code",
   "execution_count": 107,
   "metadata": {
    "colab": {
     "base_uri": "https://localhost:8080/",
     "height": 71
    },
    "id": "Xxi4MQZhHKWk",
    "outputId": "daa42a0c-7937-4d2a-f3fb-264d339ff551"
   },
   "outputs": [
    {
     "data": {
      "text/plain": [
       "array([[0., 0.],\n",
       "       [0., 0.],\n",
       "       [0., 0.]])"
      ]
     },
     "execution_count": 107,
     "metadata": {
      "tags": []
     },
     "output_type": "execute_result"
    }
   ],
   "source": [
    "a = np.zeros((3, 2))\n",
    "b = a.T.reshape(3*2)\n",
    "b[0] = 50\n",
    "a"
   ]
  },
  {
   "cell_type": "markdown",
   "metadata": {
    "id": "6FmP-ce2HllR"
   },
   "source": [
    "**Adding a Dimension**\n",
    "\n",
    "Indexing with the np.newaxis object allows us to add an axis to an array\n",
    "\n",
    "newaxis is used to increase the dimension of the existing array by one more dimension, when used once. Thus,\n",
    "\n",
    "1D array will become 2D array\n",
    "\n",
    "2D array will become 3D array\n",
    "\n",
    "3D array will become 4D array and so on"
   ]
  },
  {
   "cell_type": "code",
   "execution_count": 108,
   "metadata": {
    "colab": {
     "base_uri": "https://localhost:8080/",
     "height": 35
    },
    "id": "che-NZvcHuwU",
    "outputId": "b00a2e23-4a55-4d9a-dfb9-eeec70492773"
   },
   "outputs": [
    {
     "data": {
      "text/plain": [
       "array([1, 2, 3])"
      ]
     },
     "execution_count": 108,
     "metadata": {
      "tags": []
     },
     "output_type": "execute_result"
    }
   ],
   "source": [
    "z = np.array([1, 2, 3])\n",
    "z"
   ]
  },
  {
   "cell_type": "code",
   "execution_count": 109,
   "metadata": {
    "colab": {
     "base_uri": "https://localhost:8080/",
     "height": 71
    },
    "id": "FBP_txJ6HjEQ",
    "outputId": "20e38e9b-cd87-41fd-a3c9-f8700e431bcf"
   },
   "outputs": [
    {
     "data": {
      "text/plain": [
       "array([[1],\n",
       "       [2],\n",
       "       [3]])"
      ]
     },
     "execution_count": 109,
     "metadata": {
      "tags": []
     },
     "output_type": "execute_result"
    }
   ],
   "source": [
    "z[:, np.newaxis]"
   ]
  },
  {
   "cell_type": "markdown",
   "metadata": {
    "id": "gMdtVlamILqh"
   },
   "source": [
    "**Dimension Shuffling**"
   ]
  },
  {
   "cell_type": "code",
   "execution_count": 110,
   "metadata": {
    "colab": {
     "base_uri": "https://localhost:8080/",
     "height": 35
    },
    "id": "9PcFIdb3Hw-E",
    "outputId": "865eaa08-9e86-4493-c9da-1ca3d25d89ef"
   },
   "outputs": [
    {
     "data": {
      "text/plain": [
       "(4, 3, 2)"
      ]
     },
     "execution_count": 110,
     "metadata": {
      "tags": []
     },
     "output_type": "execute_result"
    }
   ],
   "source": [
    "a = np.arange(4*3*2).reshape(4, 3, 2)\n",
    "a.shape"
   ]
  },
  {
   "cell_type": "code",
   "execution_count": 111,
   "metadata": {
    "colab": {
     "base_uri": "https://localhost:8080/",
     "height": 287
    },
    "id": "uO5YitYEIOJL",
    "outputId": "294f1a06-83ca-4e52-e4d4-4561ac0fc5bc"
   },
   "outputs": [
    {
     "data": {
      "text/plain": [
       "array([[[ 0,  1],\n",
       "        [ 2,  3],\n",
       "        [ 4,  5]],\n",
       "\n",
       "       [[ 6,  7],\n",
       "        [ 8,  9],\n",
       "        [10, 11]],\n",
       "\n",
       "       [[12, 13],\n",
       "        [14, 15],\n",
       "        [16, 17]],\n",
       "\n",
       "       [[18, 19],\n",
       "        [20, 21],\n",
       "        [22, 23]]])"
      ]
     },
     "execution_count": 111,
     "metadata": {
      "tags": []
     },
     "output_type": "execute_result"
    }
   ],
   "source": [
    "a"
   ]
  },
  {
   "cell_type": "code",
   "execution_count": 112,
   "metadata": {
    "colab": {
     "base_uri": "https://localhost:8080/",
     "height": 35
    },
    "id": "f_fbU4zWITnG",
    "outputId": "7a0273c4-07b4-47da-9cf2-31a3cb1a1b54"
   },
   "outputs": [
    {
     "data": {
      "text/plain": [
       "5"
      ]
     },
     "execution_count": 112,
     "metadata": {
      "tags": []
     },
     "output_type": "execute_result"
    }
   ],
   "source": [
    "a[0, 2, 1]"
   ]
  },
  {
   "cell_type": "markdown",
   "metadata": {
    "id": "3dnqRbSsIgLG"
   },
   "source": [
    "**Resizing**"
   ]
  },
  {
   "cell_type": "code",
   "execution_count": 113,
   "metadata": {
    "colab": {
     "base_uri": "https://localhost:8080/",
     "height": 35
    },
    "id": "47hogfw3Id41",
    "outputId": "f2c00d92-fb7f-4712-eef0-59ae6d3d5f8a"
   },
   "outputs": [
    {
     "data": {
      "text/plain": [
       "array([0, 1, 2, 3, 0, 0, 0, 0])"
      ]
     },
     "execution_count": 113,
     "metadata": {
      "tags": []
     },
     "output_type": "execute_result"
    }
   ],
   "source": [
    "a = np.arange(4)\n",
    "a.resize((8,))\n",
    "a"
   ]
  },
  {
   "cell_type": "markdown",
   "metadata": {
    "id": "IjVpKYHIIldy"
   },
   "source": [
    "However, it must not be referred to somewhere else:"
   ]
  },
  {
   "cell_type": "code",
   "execution_count": 114,
   "metadata": {
    "colab": {
     "base_uri": "https://localhost:8080/",
     "height": 226
    },
    "id": "xY6gfBj9Ii6g",
    "outputId": "ad6d077d-c422-4b35-b425-4c435e2abe20"
   },
   "outputs": [
    {
     "ename": "ValueError",
     "evalue": "ignored",
     "output_type": "error",
     "traceback": [
      "\u001b[0;31m---------------------------------------------------------------------------\u001b[0m",
      "\u001b[0;31mValueError\u001b[0m                                Traceback (most recent call last)",
      "\u001b[0;32m<ipython-input-114-5d858401815e>\u001b[0m in \u001b[0;36m<module>\u001b[0;34m()\u001b[0m\n\u001b[1;32m      1\u001b[0m \u001b[0mb\u001b[0m \u001b[0;34m=\u001b[0m \u001b[0ma\u001b[0m\u001b[0;34m\u001b[0m\u001b[0;34m\u001b[0m\u001b[0m\n\u001b[0;32m----> 2\u001b[0;31m \u001b[0ma\u001b[0m\u001b[0;34m.\u001b[0m\u001b[0mresize\u001b[0m\u001b[0;34m(\u001b[0m\u001b[0;34m(\u001b[0m\u001b[0;36m4\u001b[0m\u001b[0;34m,\u001b[0m\u001b[0;34m)\u001b[0m\u001b[0;34m)\u001b[0m\u001b[0;34m\u001b[0m\u001b[0;34m\u001b[0m\u001b[0m\n\u001b[0m",
      "\u001b[0;31mValueError\u001b[0m: cannot resize an array that references or is referenced\nby another array in this way.\nUse the np.resize function or refcheck=False"
     ]
    }
   ],
   "source": [
    "b = a\n",
    "a.resize((4,)) "
   ]
  },
  {
   "cell_type": "markdown",
   "metadata": {
    "id": "FMG0Fzg6IrLQ"
   },
   "source": [
    "**Sorting Data**"
   ]
  },
  {
   "cell_type": "code",
   "execution_count": 115,
   "metadata": {
    "colab": {
     "base_uri": "https://localhost:8080/",
     "height": 53
    },
    "id": "NzW6_CXoIoXS",
    "outputId": "476eac37-55fb-4836-9a89-28d5737e6fd5"
   },
   "outputs": [
    {
     "data": {
      "text/plain": [
       "array([[4, 5, 6],\n",
       "       [2, 2, 3]])"
      ]
     },
     "execution_count": 115,
     "metadata": {
      "tags": []
     },
     "output_type": "execute_result"
    }
   ],
   "source": [
    "#Sorting along an axis:\n",
    "a = np.array([[5, 4, 6], [2, 3, 2]])\n",
    "b = np.sort(a, axis=1)\n",
    "b"
   ]
  },
  {
   "cell_type": "code",
   "execution_count": 116,
   "metadata": {
    "colab": {
     "base_uri": "https://localhost:8080/",
     "height": 53
    },
    "id": "Zio8PUqnIvKP",
    "outputId": "35c4f690-8dc8-4ff6-8c67-80ac5ed14483"
   },
   "outputs": [
    {
     "data": {
      "text/plain": [
       "array([[4, 5, 6],\n",
       "       [2, 2, 3]])"
      ]
     },
     "execution_count": 116,
     "metadata": {
      "tags": []
     },
     "output_type": "execute_result"
    }
   ],
   "source": [
    "#in-place sort\n",
    "a.sort(axis=1)\n",
    "a"
   ]
  },
  {
   "cell_type": "code",
   "execution_count": 117,
   "metadata": {
    "colab": {
     "base_uri": "https://localhost:8080/",
     "height": 35
    },
    "id": "ez-Lma-DIwe8",
    "outputId": "79409e2c-4ec9-4e96-ee01-b5e51421a559"
   },
   "outputs": [
    {
     "data": {
      "text/plain": [
       "array([2, 3, 1, 0])"
      ]
     },
     "execution_count": 117,
     "metadata": {
      "tags": []
     },
     "output_type": "execute_result"
    }
   ],
   "source": [
    "#sorting with fancy indexing\n",
    "a = np.array([4, 3, 1, 2])\n",
    "j = np.argsort(a)\n",
    "j"
   ]
  },
  {
   "cell_type": "code",
   "execution_count": 118,
   "metadata": {
    "colab": {
     "base_uri": "https://localhost:8080/",
     "height": 35
    },
    "id": "mwFYoAJKIxlC",
    "outputId": "ac96b25d-7919-41c3-f125-50dca6d279d5"
   },
   "outputs": [
    {
     "data": {
      "text/plain": [
       "array([1, 2, 3, 4])"
      ]
     },
     "execution_count": 118,
     "metadata": {
      "tags": []
     },
     "output_type": "execute_result"
    }
   ],
   "source": [
    "a[j]"
   ]
  },
  {
   "cell_type": "code",
   "execution_count": 118,
   "metadata": {
    "id": "h7DwulC7Iyx3"
   },
   "outputs": [],
   "source": []
  }
 ],
 "metadata": {
  "colab": {
   "authorship_tag": "ABX9TyMMfj7cM0HxCFxHSRWhmoHm",
   "collapsed_sections": [],
   "include_colab_link": true,
   "name": "Data_Analysis.ipynb",
   "provenance": [],
   "toc_visible": true
  },
  "kernelspec": {
   "display_name": "Python 3",
   "language": "python",
   "name": "python3"
  },
  "language_info": {
   "codemirror_mode": {
    "name": "ipython",
    "version": 3
   },
   "file_extension": ".py",
   "mimetype": "text/x-python",
   "name": "python",
   "nbconvert_exporter": "python",
   "pygments_lexer": "ipython3",
   "version": "3.6.5"
  }
 },
 "nbformat": 4,
 "nbformat_minor": 1
}
